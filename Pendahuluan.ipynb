{
 "cells": [
  {
   "cell_type": "markdown",
   "id": "65eb7334",
   "metadata": {},
   "source": [
    "# Chapter 1: Pendahuluan\n",
    "\n",
    "## Transkrip Pengantar Kelas\n",
    "Visualisasi data merupakan cara mengomunikasikan sebuah informasi atau data dalam bentuk visual seperti diagram, grafik, atau representasi visual lainnya.\n",
    "\n",
    "## Media Visualisasi Data\n",
    "1. Tabel\n",
    "Terdapat beberapa aturan dasar dalam penulisan tabel yaitu sebagai berikut:\n",
    "- Penulisan judul, dalam menulis judul pastikan sudah mencakup isi dari tabel kita. Usahakan menggunakan font yang jelas dan mudah dibaca. Pembaca jadi paham tabel apa yang tersaji.\n",
    "- Simpel, simplicity is a must (kesederhanaan adalah suatu keharusan). Jangan terlalu berlebihan dalam mendesain sebuah tabel. Akibatnya pembaca tidak fokus pada data yang disajikan. Penulisan variabel di dalamnya juga singkat saja.\n",
    "- Penjelasan Simbol, apabila dalam tabel terdapat simbol atau istilah tertentu, Anda dapat menjelaskannya pada catatan kaki tabel tersebut.\n",
    "- Penekanan, penekanan yang dimaksud adalah cara kita memfokuskan perhatian pembaca pada pokok data. Misal, dalam penulisan tabel di atas, nama buah menggunakan warna background biru supaya pembaca bisa mudah membedakan nama buah dan jumlah buah. Jika suatu data ada dalam kategori yang sama dan dapat dijumlahkan, maka Anda dapat menyertakan total di akhir datanya seperti contoh tabel di atas.\n",
    "- Sumber Tabel, apabila tabel yang disajikan bukan milik Anda, maka sertakan sumber di catatan kaki tabel tersebut.\n",
    "2. Diagram, merupakan sebuah representasi data yang digambarkan dalam bentuk grafik.\n",
    "- Diagram batang, menunjukkan perbandingan angka pada kategori tertentu. Sumbu X pada diagram batang menunjukkan kategori data sedangkan sumbu Y menunjukkan skala nilai dari data dalam satuan ukuran tertentu. Pastikan pada sumbu Y nilai awalnya adalah 0. \n",
    "- Diagram garis, menyajikan perubahan data dalam periode waktu tertentu. Sumbu X berfungsi untuk menunjukkan interval waktu sedangkan sumbu Y menunjukkan kuantitas atau nilai dari data tersebut seperti total penjualan, biaya yang dikeluarkan, jumlah pendapatan, dan lain sebagainya. \n",
    "- Diagram lingkaran, usahakan data yang Anda gambarkan dalam diagram maksimal 5 irisan supaya tidak menyulitkan pembaca. \n",
    "\n",
    "## Visualisasi Data dalam Bisnis\n",
    "1. Scorecard, merupakan sebuah visualisasi yang fokus pada sebuah jenis data yang spesifik. Scorecard dapat juga menggambarkan tentang salah satu Key Performance Indicators (KPI) perusahaan yang lebih disederhanakan untuk dapat memantau kemajuan progres.\n",
    "2. Dashboard, merupakan kumpulan dari berbagai macam visualisasi yang menggabungkan dan merangkum informasi atau data bisnis.\n",
    "3. Report atau laporan merupakan suatu bentuk penyampaian berita, keterangan, pemberitahuan, ataupun pertanggungjawaban sebagai bentuk pelaksanaan komunikasi dari pihak yang satu kepada pihak yang lainnya.\n",
    "4. Analytic report adalah laporan yang berfokus pada analisis yang digunakan untuk menentukan keputusan.\n",
    "\n",
    "## Tools dalam Visualisasi Data\n",
    "1. Tableu Public, merupakan sebuah layanan gratis yang memungkinkan siapa saja dapat mempublikasikan visualisasi data ke dalam web. \n",
    "2. Google Sheets, \n",
    "3. Microsoft Excel\n",
    "\n",
    "## Konteks Data\n",
    "1. Kepada siapa data ini akan disampaikan?\n",
    "2. Data apa yang ingin disampaikan?\n",
    "3. Bagaimana cara menyampaikna data tersebut?"
   ]
  }
 ],
 "metadata": {
  "kernelspec": {
   "display_name": "Python 3 (ipykernel)",
   "language": "python",
   "name": "python3"
  },
  "language_info": {
   "codemirror_mode": {
    "name": "ipython",
    "version": 3
   },
   "file_extension": ".py",
   "mimetype": "text/x-python",
   "name": "python",
   "nbconvert_exporter": "python",
   "pygments_lexer": "ipython3",
   "version": "3.9.12"
  }
 },
 "nbformat": 4,
 "nbformat_minor": 5
}
