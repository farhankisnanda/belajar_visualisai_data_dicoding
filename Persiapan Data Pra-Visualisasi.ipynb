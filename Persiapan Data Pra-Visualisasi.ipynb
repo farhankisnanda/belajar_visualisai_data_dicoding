{
 "cells": [
  {
   "cell_type": "markdown",
   "id": "e2c2f049",
   "metadata": {},
   "source": [
    "# Chapter 2: Persiapan Data Pra Visualisasi\n",
    "\n",
    "## Transkip Dasar Spreadsheet\n",
    "\n",
    "Spread berarti penyebaran atau menyebar, sedangkan sheet berarti lembaran. Sehingga, spreadsheet merupakan sebuah lembaran berisi baris dan kolom yang dapat kita gunakan untuk analisis data.\n",
    "Berikut ini adalah beberapa kegunaan spreadsheet:\n",
    "- Menyimpan informasi secara detail.\n",
    "- Membuat tabel data dengan lebih mudah.\n",
    "- Membantu dalam perhitungan statistik.\n",
    "- Memvisualisasikan data ke dalam bentuk grafik.\n",
    "- Lengkap dengan rumus-rumus yang membantu dalam perhitungan data.\n",
    "\n",
    "## Navigasi Dasar pada Google Sheets\n",
    "Dalam sel inilah kita memasukkan data yang ingin diproses.Data yang dapat dimasukkan dalam sel tersebut dapat berupa: \n",
    "- Angka, Anda dapat memasukkan angka yang nantinya dapat dihitung secara matematis.\n",
    "- Teks, Anda dapat memasukkan data atau informasi dalam bentuk teks seperti “Jumlah barang” atau “Nama lengkap”. \n",
    "- Rumus, Digunakan untuk melakukan perhitungan atau kalkulasi dari sebuah atau sekelompok sel. Misal, kita dapat menggunakan rumus untuk menjumlahkan sebuah deretan sel yang berisi data dalam bentuk angka.\n",
    "| Tombol pada Keyboard | Fungsi |\n",
    "| :------------------- | :----- |\n",
    "| Tab | Mengakhiri masukan data pada sebuah sel dan bergeser ke sel selanjutnya secara horizontal (ke kanan) |\n",
    "| Enter | Mengakhiri sebuah masukan data dan berpindah satu baris ke bawah |\n",
    "| Panah ke atas | Berpindah satu sel ke atas |\n",
    "| Panah ke bawah | Berpindah satu sel ke bawah |\n",
    "| Panah ke kanan | Berpindah satu sel ke kanan |\n",
    "| Panah ke kiri | Berpindah satu sel ke kiri |\n",
    "| Ctrl + arah panah | Berpindah ke sel paling luar berdasarkan arah yang dimasukan. Misal data tertulis dalam kolom A1 sampai J1. Apabila diberikan perintah Ctrl + arah kanan maka sel akan berpindah ke kolom J1 |\n",
    "| Shift + arah panah | Untuk menyorot sel berdasarkan arah yang diberikan. Misal terdapat data yang berada pada A1 sampai A10. Jika ditekan Shift + arah bawah mulai dari A1 maka akan menyorot data pada sel A2, A3, dan seterusnya |\n",
    "| Ctrl + Shift + arah panah | Untuk menyorot sel yang berisi data. Misal terdapat data yang berada pada A1 sampai A10, jika ditekan Ctrl + Shift + arah bawah maka data yang dimulai dari A1 sampai A10 langsung otomatis tersorot |\n",
    "| Ctrl + C | Untuk menduplikasi isi data dari suatu sel |\n",
    "| Ctrl + X | Untuk memindahkan isi data dari suatu sel |\n",
    "| Ctrl + V | Untuk menampilkan data hasil duplikasi atau pemindahan yang dilakukan sebelumnya | \n",
    "| Ctrl + Z | Untuk mengembalikan ke kondisi perubahan data terakhir (Undo) | \n",
    "| Ctrl + Y | Untuk membatalkan perintah undo atau kembali ke kondisi sebelum perintah Undo |\n",
    "\n",
    "\n"
   ]
  }
 ],
 "metadata": {
  "kernelspec": {
   "display_name": "Python 3 (ipykernel)",
   "language": "python",
   "name": "python3"
  },
  "language_info": {
   "codemirror_mode": {
    "name": "ipython",
    "version": 3
   },
   "file_extension": ".py",
   "mimetype": "text/x-python",
   "name": "python",
   "nbconvert_exporter": "python",
   "pygments_lexer": "ipython3",
   "version": "3.9.12"
  }
 },
 "nbformat": 4,
 "nbformat_minor": 5
}
